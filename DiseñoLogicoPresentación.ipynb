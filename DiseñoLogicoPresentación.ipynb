{
  "nbformat": 4,
  "nbformat_minor": 0,
  "metadata": {
    "colab": {
      "provenance": []
    },
    "kernelspec": {
      "name": "python3",
      "display_name": "Python 3"
    },
    "language_info": {
      "name": "python"
    }
  },
  "cells": [
    {
      "cell_type": "code",
      "execution_count": 4,
      "metadata": {
        "colab": {
          "base_uri": "https://localhost:8080/",
          "height": 513
        },
        "id": "qF2EYpjRLCaB",
        "outputId": "0fd7bcd0-da15-417c-890e-f1848bd9fa95"
      },
      "outputs": [
        {
          "name": "stdout",
          "output_type": "stream",
          "text": [
            "Ingrese la base deseada (máximo 5000): 1000\n",
            "Ingrese la ruta de la imagen para codificar: /content/Captura de pantalla 2025-03-19 013150.png\n"
          ]
        },
        {
          "output_type": "display_data",
          "data": {
            "text/plain": [
              "<Figure size 640x480 with 1 Axes>"
            ],
            "image/png": "[encoded data removed]"
          },
          "metadata": {}
        },
        {
          "output_type": "stream",
          "name": "stdout",
          "text": [
            "Número base 10 de la imagen: 440148155602159505468760251931956659553350801663857669825889082918691061082440900440455715519517748172476808704189195873173088213328572418767658594047724377617246852098268001447331172874152066658359179890719164893448830874218931282565172764624711049476896635351290860485606869892437260501800231006441133831989357774572455812491126656185546413724559835962603885588900919330931758602623438042708595716174461217188631444248902073802923489301706840329115821136065633603244663275581333062536664724058876558598376575053986278356487601678957715497233431339985613170328125769637885467998672723535808516740420416790292589458617898487126975834230408813698799343590399035779345618879118839375348532249307481833514249409366207013829808122815787349283417541596286627740779713779244946882437393013459928894718543240631264132582207589020636252908295657753252079898481609589455329847991046530448469932047392073874231747896941976734870984020000678183124227285353038396933021081139921495697639636899951333597018648585387453303108532044791745968473230309762545453412297443396024560769923859035421738659200251695958940498630259489878753125280994022812423316361138253353428628205634890742752864641649218958181320524417794909538476011252590209539132567398185699162079882282698757828503720597220738963697786633161632211484844277763998630801776804933924005628042898324272263185073772356670799026692983928805072550023738363241075276349496977043347862226732377216437475494798803994824524509018461497853945799819200577406871929953162901809746497030779248921113137692736143446194123100646126383279184313178706494291448673516820168816024979853624735509433006277809955269286732068203529515584096052777326326704886704599312843843869159615431433840949590856437087885844670384099598277070210788305216603458657572620849539594007172333462407015928267575412612585735485469560305002446247630514162807700213121319618252856134877630026062076908133432283782132464516655119453065220272137020748535114932084440078811660316573989610786878418121788676370062675615339687840517488134350770845378689675880378554604903851608070861351392249558718201934592131762620245492715325065350311235145590761122871276237221057050891782331814626719031433921513201196514797457491367790747402512946749632547493945762456997018750424054606381462351834471496969445733061811601283572549858211946768820810014246179189021586364973596804255998479511764156145776523539893566734704597770642542928486530\n",
            "Imagen codificada en base 1000: ț÷þʽĂɜȷ͛ŞІП˶ʌǁ΄˺μ̀ΜϜµϹ̖zµțϧțȪ̮ɪɨ͏ďȿ΋̣ĠĦόĐ»ĸƫʟȅ͢˵ʵl̷ǜˌřηÅů1ȢƮďύû¥˵ǊĖϝ̲ćϠȣΡύĽІŽʘď͟˓̪nȿϣ˞ǂƅοɈˁψϟȘŧɘ΃Ŋ6Ȝ...\n",
            "Imagen reconstruida y guardada en: imagen_reconstruida.png\n"
          ]
        }
      ],
      "source": [
        "import sys\n",
        "from collections import deque\n",
        "import cv2\n",
        "import numpy as np\n",
        "import matplotlib.pyplot as plt\n",
        "\n",
        "def mostrar_imagen(ruta):\n",
        "    \"\"\"\n",
        "    Muestra la imagen usando matplotlib en lugar de cv2.imshow().\n",
        "    \"\"\"\n",
        "    imagen = cv2.imread(ruta)  # Leer la imagen\n",
        "    if imagen is None:\n",
        "        print(\"Error: No se pudo abrir la imagen.\")\n",
        "        return False\n",
        "\n",
        "    imagen = cv2.cvtColor(imagen, cv2.COLOR_BGR2RGB)  # Convertir de BGR a RGB para matplotlib\n",
        "\n",
        "    plt.imshow(imagen)  # Mostrar la imagen\n",
        "    plt.axis(\"off\")  # Ocultar ejes\n",
        "    plt.show()\n",
        "\n",
        "    return True\n",
        "\n",
        "def generar_tabla_unicode(base):\n",
        "    \"\"\"\n",
        "    Genera una tabla de caracteres Unicode imprimibles hasta la base especificada.\n",
        "    \"\"\"\n",
        "    if base > 5000:\n",
        "        raise ValueError(\"La base máxima permitida es 5000.\")\n",
        "\n",
        "    caracteres = []\n",
        "    for i in range(10):\n",
        "        caracteres.append(chr(48 + i))  # '0' - '9'\n",
        "\n",
        "    for i in range(26):\n",
        "        caracteres.append(chr(65 + i))  # 'A' - 'Z'\n",
        "\n",
        "    for i in range(26):\n",
        "        caracteres.append(chr(97 + i))  # 'a' - 'z'\n",
        "\n",
        "    for i in range(base - len(caracteres)):\n",
        "        caracteres.append(chr(161 + i))  # Caracteres Unicode imprimibles\n",
        "\n",
        "    return caracteres[:base]\n",
        "\n",
        "def convertir_a_base(numero, base):\n",
        "    \"\"\"\n",
        "    Convierte un número en base 10 a una base personalizada utilizando caracteres Unicode.\n",
        "    \"\"\"\n",
        "    if numero == 0:\n",
        "        return \"0\"\n",
        "\n",
        "    tabla_unicode = generar_tabla_unicode(base)\n",
        "    resultado = deque()\n",
        "\n",
        "    while numero:\n",
        "        numero, residuo = divmod(numero, base)\n",
        "        resultado.appendleft(tabla_unicode[residuo])\n",
        "\n",
        "    return \"\".join(resultado)\n",
        "\n",
        "def convertir_desde_base(num_str, base):\n",
        "    \"\"\"\n",
        "    Convierte un número de una base personalizada a base 10.\n",
        "    \"\"\"\n",
        "    tabla_unicode = generar_tabla_unicode(base)\n",
        "    valor_decimal = 0\n",
        "    longitud = len(num_str)\n",
        "\n",
        "    for i, char in enumerate(num_str):\n",
        "        if char not in tabla_unicode:\n",
        "            raise ValueError(f\"Carácter '{char}' no válido en la base {base}.\")\n",
        "\n",
        "        valor = tabla_unicode.index(char)\n",
        "        valor_decimal += valor * (base ** (longitud - i - 1))\n",
        "\n",
        "    return valor_decimal\n",
        "\n",
        "def codificar_imagen(ruta, base):\n",
        "    \"\"\"\n",
        "    Lee una imagen binaria, la convierte en un número y luego lo codifica en la base deseada.\n",
        "    \"\"\"\n",
        "    numero = 0\n",
        "\n",
        "    with open(ruta, \"rb\") as imagen:\n",
        "        while (chunk := imagen.read(1024)):  # Leer en bloques de 1024 bytes\n",
        "            for byte in chunk:\n",
        "                numero = (numero * 256) + byte  # Convertir la imagen en un número\n",
        "\n",
        "    print(f\"Número base 10 de la imagen: {numero}\")\n",
        "\n",
        "    # Asegurar que Python pueda manejar números grandes\n",
        "    sys.set_int_max_str_digits(len(str(numero)) + 1000)\n",
        "\n",
        "    codificado = convertir_a_base(numero, base)\n",
        "    return codificado\n",
        "\n",
        "def decodificar_imagen(cadena_codificada, base, ruta_salida):\n",
        "    \"\"\"\n",
        "    Convierte una cadena codificada en base personalizada de nuevo a un archivo de imagen.\n",
        "    \"\"\"\n",
        "    # Convertir de base personalizada a decimal\n",
        "    numero = convertir_desde_base(cadena_codificada, base)\n",
        "\n",
        "    # Convertir el número decimal a bytes\n",
        "    datos_bytes = []\n",
        "    while numero:\n",
        "        datos_bytes.append(numero % 256)\n",
        "        numero //= 256\n",
        "\n",
        "    datos_bytes.reverse()  # Invertir para mantener el orden original\n",
        "\n",
        "    # Guardar en un archivo de imagen\n",
        "    with open(ruta_salida, \"wb\") as imagen_salida:\n",
        "        imagen_salida.write(bytearray(datos_bytes))\n",
        "\n",
        "    print(f\"Imagen reconstruida y guardada en: {ruta_salida}\")\n",
        "\n",
        "# Ejemplo de uso\n",
        "if __name__ == \"__main__\":\n",
        "    base = int(input(\"Ingrese la base deseada (máximo 5000): \"))\n",
        "\n",
        "    if base < 2 or base > 5000:\n",
        "        print(\"Base fuera de rango.\")\n",
        "    else:\n",
        "        ruta_imagen = input(\"Ingrese la ruta de la imagen para codificar: \")\n",
        "\n",
        "        # Mostrar la imagen antes de codificar\n",
        "        if mostrar_imagen(ruta_imagen):\n",
        "            imagen_codificada = codificar_imagen(ruta_imagen, base)\n",
        "            print(f\"Imagen codificada en base {base}: {imagen_codificada[:100]}...\")\n",
        "\n",
        "            # Decodificar la imagen\n",
        "            ruta_salida = \"imagen_reconstruida.png\"\n",
        "            decodificar_imagen(imagen_codificada, base, ruta_salida)\n",
        "\n"
      ]
    },
    {
      "cell_type": "markdown",
      "source": [],
      "metadata": {
        "id": "zozNc4D4Q2W1"
      }
    }
  ]
}